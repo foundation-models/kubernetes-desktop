{
 "cells": [
  {
   "cell_type": "markdown",
   "metadata": {},
   "source": [
    "## Deploy & Test your first pod\n",
    "\n",
    "You can refer to this [Google Slide](https://docs.google.com/presentation/d/19c6nCILgDcQn0MiOWLHkomg9frJXTOMXVBLGoDQXliU/present?usp=sharing) and this [short Video](https://youtu.be/iq41D3SfvYM) for detailed explanation\n"
   ]
  },
  {
   "cell_type": "markdown",
   "metadata": {},
   "source": [
    "* In Vscode search(ctrl-p) for test_local_volume.yaml and open it\n",
    "* Open its folder (right click on it) in Integrated Terminal \n"
   ]
  },
  {
   "cell_type": "code",
   "execution_count": 2,
   "metadata": {},
   "outputs": [
    {
     "name": "stdout",
     "output_type": "stream",
     "text": [
      "pod/test-local-volume created\n"
     ]
    }
   ],
   "source": [
    "!kubectl apply -f test-local-volume.yaml"
   ]
  },
  {
   "cell_type": "markdown",
   "metadata": {},
   "source": [
    "## Deploy your first dev pod"
   ]
  },
  {
   "cell_type": "code",
   "execution_count": 37,
   "metadata": {},
   "outputs": [
    {
     "name": "stdout",
     "output_type": "stream",
     "text": [
      "pod/jupyter-python3 created\n"
     ]
    }
   ],
   "source": [
    "!kubectl apply -f jupyter-python3.yaml"
   ]
  },
  {
   "cell_type": "markdown",
   "metadata": {},
   "source": [
    "Click on http://localhost:8888"
   ]
  },
  {
   "cell_type": "markdown",
   "metadata": {},
   "source": [
    "## Deploy a scalable app"
   ]
  },
  {
   "cell_type": "code",
   "execution_count": 42,
   "metadata": {},
   "outputs": [
    {
     "name": "stdout",
     "output_type": "stream",
     "text": [
      "deployment.apps/dev-app configured\n",
      "service/jupyter unchanged\n"
     ]
    }
   ],
   "source": [
    "!kubectl apply -f dev-app.yaml\n",
    "!kubectl apply -f jupyter-service.yaml"
   ]
  },
  {
   "cell_type": "markdown",
   "metadata": {},
   "source": [
    "## Debug\n",
    "\n",
    "\n",
    "Follow [Debugging DNS Resolution](https://kubernetes.io/docs/tasks/administer-cluster/dns-debugging-resolution/) introduced dnsutils pod. ALso I find out executing the following helps debug the dns lookup issues.\n",
    "```\n",
    " kubectl run -it networktest --image=alpine bin/ash --restart=Never --rm\n",
    " ```"
   ]
  }
 ],
 "metadata": {
  "interpreter": {
   "hash": "3067ead486e059ec00ffe7555bdb889e6e264a24dc711bf108106cc7baee8d5d"
  },
  "kernelspec": {
   "display_name": "Python 3.8.8 64-bit ('base': conda)",
   "language": "python",
   "name": "python3"
  },
  "language_info": {
   "codemirror_mode": {
    "name": "ipython",
    "version": 3
   },
   "file_extension": ".py",
   "mimetype": "text/x-python",
   "name": "python",
   "nbconvert_exporter": "python",
   "pygments_lexer": "ipython3",
   "version": "3.8.8"
  },
  "orig_nbformat": 4
 },
 "nbformat": 4,
 "nbformat_minor": 2
}
